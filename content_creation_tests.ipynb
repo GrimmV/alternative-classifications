{
 "cells": [
  {
   "cell_type": "code",
   "execution_count": null,
   "metadata": {},
   "outputs": [],
   "source": [
    "from llm_models.NewsClassification import NewsClassification\n",
    "from llm_models.StatementRefactorer import StatementRefactorer\n",
    "\n",
    "from content_creation_tests.content_creation_tests import content_feedback, print_content_feedback"
   ]
  },
  {
   "cell_type": "code",
   "execution_count": null,
   "metadata": {},
   "outputs": [],
   "source": [
    "classifier = NewsClassification()\n",
    "\n",
    "text = \"We know dangerous criminals can slip through immigration at airports just like ours. Yet Joe Donnelly stood right here with the radical left against all efforts to secure our most vulnerable entry points\"\n",
    "\n",
    "print(f\"Statement: {text}\")\n",
    "\n",
    "result = classifier.generate(\n",
    "    f\"Please analyze the following statement: {text}\"\n",
    ")\n",
    "\n",
    "content_feedback(result)\n",
    "print_content_feedback(result)"
   ]
  },
  {
   "cell_type": "code",
   "execution_count": null,
   "metadata": {},
   "outputs": [],
   "source": [
    "statement_refactorer = StatementRefactorer()\n",
    "\n",
    "refactored_statement = statement_refactorer.generate(\n",
    "    f\"Please refactor the following statement to make it less polarizing: {text}\"\n",
    ")\n",
    "\n",
    "print(refactored_statement.refactored_statement)\n",
    "print(refactored_statement.refactoring_reason)\n",
    "\n",
    "refactored_result = classifier.generate(\n",
    "    f\"Please analyze the following statement: {refactored_statement.refactored_statement}\"\n",
    ")"
   ]
  },
  {
   "cell_type": "code",
   "execution_count": null,
   "metadata": {},
   "outputs": [],
   "source": []
  },
  {
   "cell_type": "code",
   "execution_count": null,
   "metadata": {},
   "outputs": [],
   "source": [
    "print_content_feedback(refactored_result)"
   ]
  },
  {
   "cell_type": "code",
   "execution_count": null,
   "metadata": {},
   "outputs": [],
   "source": [
    "prompt = f'''You are supposed to refactor a statement according to the users needs.\n",
    "        The following updates have been conducted so far: \\n\n",
    "        Initial statement: {text}, \\n\n",
    "        Update to reduce polarity: {refactored_statement.refactored_statement} \\n\n",
    "\n",
    "        Refactor the statement so that is still less polarizing but easier to read.\n",
    "    '''"
   ]
  },
  {
   "cell_type": "code",
   "execution_count": null,
   "metadata": {},
   "outputs": [],
   "source": [
    "refactored_statement_2 = statement_refactorer.generate(prompt)"
   ]
  },
  {
   "cell_type": "code",
   "execution_count": null,
   "metadata": {},
   "outputs": [],
   "source": [
    "refactored_statement_2"
   ]
  },
  {
   "cell_type": "code",
   "execution_count": null,
   "metadata": {},
   "outputs": [],
   "source": []
  }
 ],
 "metadata": {
  "kernelspec": {
   "display_name": "Python 3 (ipykernel)",
   "language": "python",
   "name": "python3"
  },
  "language_info": {
   "codemirror_mode": {
    "name": "ipython",
    "version": 3
   },
   "file_extension": ".py",
   "mimetype": "text/x-python",
   "name": "python",
   "nbconvert_exporter": "python",
   "pygments_lexer": "ipython3",
   "version": "3.11.12"
  }
 },
 "nbformat": 4,
 "nbformat_minor": 4
}
