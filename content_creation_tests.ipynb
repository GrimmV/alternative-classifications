{
 "cells": [
  {
   "cell_type": "code",
   "execution_count": null,
   "metadata": {},
   "outputs": [],
   "source": [
    "from llm_models.NewsClassification import NewsClassification\n",
    "from llm_models.StatementRefactorer import StatementRefactorer\n",
    "\n",
    "from content_creation_tests.content_creation_tests import content_feedback, print_content_feedback"
   ]
  },
  {
   "cell_type": "code",
   "execution_count": null,
   "metadata": {},
   "outputs": [],
   "source": [
    "classifier = NewsClassification()\n",
    "\n",
    "text = \"David Beckham's soccer stadium would get a special tax deal that lets them off the hook for $2 million in taxes every year for 30 years.\"\n",
    "\n",
    "print(f\"Statement: {text}\")\n",
    "\n",
    "result = classifier.generate(\n",
    "    f\"Please analyze the following statement: {text}\"\n",
    ")\n",
    "\n",
    "content_feedback(result)\n",
    "print_content_feedback(result)\n",
    "\n",
    "statement_refactorer = StatementRefactorer()\n",
    "\n",
    "refactored_statement = statement_refactorer.generate(\n",
    "    f\"Please refactor the following statement to make it less polarizing: {text}\"\n",
    ")\n",
    "\n",
    "print(refactored_statement.refactored_statement)\n",
    "print(refactored_statement.refactoring_reason)\n",
    "\n",
    "refactored_result = classifier.generate(\n",
    "    f\"Please analyze the following statement: {refactored_statement.refactored_statement}\"\n",
    ")\n",
    "\n",
    "print_content_feedback(result)\n"
   ]
  }
 ],
 "metadata": {
  "kernelspec": {
   "display_name": ".venv",
   "language": "python",
   "name": "python3"
  },
  "language_info": {
   "codemirror_mode": {
    "name": "ipython",
    "version": 3
   },
   "file_extension": ".py",
   "mimetype": "text/x-python",
   "name": "python",
   "nbconvert_exporter": "python",
   "pygments_lexer": "ipython3",
   "version": "3.11.12"
  }
 },
 "nbformat": 4,
 "nbformat_minor": 2
}
